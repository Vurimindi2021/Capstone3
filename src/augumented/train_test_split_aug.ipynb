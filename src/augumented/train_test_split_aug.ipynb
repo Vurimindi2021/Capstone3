{
  "nbformat": 4,
  "nbformat_minor": 0,
  "metadata": {
    "colab": {
      "name": "train_test_split_aug.ipynb",
      "private_outputs": true,
      "provenance": [],
      "authorship_tag": "ABX9TyPjY4KyIYXXanTHE7w+ag9j",
      "include_colab_link": true
    },
    "kernelspec": {
      "name": "python3",
      "display_name": "Python 3"
    },
    "language_info": {
      "name": "python"
    }
  },
  "cells": [
    {
      "cell_type": "markdown",
      "metadata": {
        "id": "view-in-github",
        "colab_type": "text"
      },
      "source": [
        "<a href=\"https://colab.research.google.com/github/Vurimindi2021/Capstone3/blob/main/src/augumented/train_test_split_aug.ipynb\" target=\"_parent\"><img src=\"https://colab.research.google.com/assets/colab-badge.svg\" alt=\"Open In Colab\"/></a>"
      ]
    },
    {
      "cell_type": "code",
      "metadata": {
        "id": "B36HDTGICG-w"
      },
      "source": [
        "from google.colab import drive\n",
        "drive.flush_and_unmount()\n",
        "drive.mount('/content/drive', force_remount=True)"
      ],
      "execution_count": null,
      "outputs": []
    },
    {
      "cell_type": "code",
      "metadata": {
        "id": "kl-cfVe8CJ4P"
      },
      "source": [
        "from sklearn.model_selection import train_test_split\n",
        "import numpy as np\n",
        "import pandas as pd"
      ],
      "execution_count": null,
      "outputs": []
    },
    {
      "cell_type": "code",
      "metadata": {
        "id": "WUzS_j8tCQsm"
      },
      "source": [
        "train_new= pd.read_csv(\"/content/drive/MyDrive/nlp/data/train_new.csv\")"
      ],
      "execution_count": null,
      "outputs": []
    },
    {
      "cell_type": "code",
      "metadata": {
        "id": "VKSexpewN8n8"
      },
      "source": [
        "    print(train_new.iloc[18344])\n",
        "    train_new.drop(18344, axis=0, inplace=True)"
      ],
      "execution_count": null,
      "outputs": []
    },
    {
      "cell_type": "code",
      "metadata": {
        "id": "uScvIYMwEDmf"
      },
      "source": [
        "train_new[\"language_label\"] = train_new.lang_abv.astype(str) + \"_\" + train_new.label.astype(str)"
      ],
      "execution_count": null,
      "outputs": []
    },
    {
      "cell_type": "code",
      "metadata": {
        "id": "8sqN5eooKKRd"
      },
      "source": [
        "train_new.drop(12132, axis=0, inplace=True)"
      ],
      "execution_count": null,
      "outputs": []
    },
    {
      "cell_type": "code",
      "metadata": {
        "id": "XGr5fOfyCnnM"
      },
      "source": [
        "train, test = train_test_split(train_new, test_size=0.20, random_state=42,stratify=train_new.language_label)"
      ],
      "execution_count": null,
      "outputs": []
    },
    {
      "cell_type": "code",
      "metadata": {
        "id": "0D9thLZRMFCA"
      },
      "source": [
        "train.to_csv(\"/content/drive/MyDrive/nlp/data/augumented/train.csv\", index=False)"
      ],
      "execution_count": null,
      "outputs": []
    },
    {
      "cell_type": "code",
      "metadata": {
        "id": "jgF-hLa4MURP"
      },
      "source": [
        "test.to_csv(\"/content/drive/MyDrive/nlp/data/augumented/test.csv\", index=False)"
      ],
      "execution_count": null,
      "outputs": []
    }
  ]
}