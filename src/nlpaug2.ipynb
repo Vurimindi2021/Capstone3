{
  "nbformat": 4,
  "nbformat_minor": 0,
  "metadata": {
    "colab": {
      "name": "nlpaug2.ipynb",
      "private_outputs": true,
      "provenance": [],
      "machine_shape": "hm",
      "authorship_tag": "ABX9TyM/ZiebwMtDepZLzmgtwTG6",
      "include_colab_link": true
    },
    "kernelspec": {
      "name": "python3",
      "display_name": "Python 3"
    },
    "language_info": {
      "name": "python"
    },
    "accelerator": "GPU"
  },
  "cells": [
    {
      "cell_type": "markdown",
      "metadata": {
        "id": "view-in-github",
        "colab_type": "text"
      },
      "source": [
        "<a href=\"https://colab.research.google.com/github/Vurimindi2021/Capstone3/blob/main/src/nlpaug2.ipynb\" target=\"_parent\"><img src=\"https://colab.research.google.com/assets/colab-badge.svg\" alt=\"Open In Colab\"/></a>"
      ]
    },
    {
      "cell_type": "code",
      "metadata": {
        "id": "R1IR8A44N6D5"
      },
      "source": [
        "from google.colab import drive\n",
        "drive.flush_and_unmount()\n",
        "drive.mount('/content/drive', force_remount=True)"
      ],
      "execution_count": null,
      "outputs": []
    },
    {
      "cell_type": "code",
      "metadata": {
        "id": "ELyjRqXNsAt6"
      },
      "source": [
        "#nlp augmentation\n",
        "!pip install -U deep_translator\n",
        "!pip install detectlanguage\n",
        "!pip install dask[Bag]\n",
        "!pip install numpy requests nlpaug\n",
        "!pip install torch>=1.2.0 transformers>=2.0.0\n",
        "!pip install nltk>=3.4.5\n",
        "!pip install transformers\n",
        "!pip install --quiet googletrans\n",
        "!pip install dask[Bag]"
      ],
      "execution_count": null,
      "outputs": []
    },
    {
      "cell_type": "code",
      "metadata": {
        "id": "v22BzJS8NxMS"
      },
      "source": [
        "#for fast parallel processing\n",
        "from dask import bag, diagnostics\n",
        "#python basics\n",
        "import math, os, re, time\n",
        "import numpy as np\n",
        "import pandas as pd\n",
        "#nlp augumentation\n",
        "import nlpaug.augmenter.char as nac\n",
        "import nlpaug.augmenter.word as naw\n",
        "import nlpaug.augmenter.sentence as nas\n",
        "import nlpaug.flow as nafc\n",
        "from nlpaug.util import Action\n",
        "import transformers\n",
        "from transformers import BertTokenizer, TFBertModel\n",
        "from transformers import AutoTokenizer\n",
        "import torch\n",
        "import detectlanguage\n",
        "from deep_translator import (GoogleTranslator,\n",
        "                             MicrosoftTranslator,\n",
        "                             PonsTranslator,\n",
        "                             LingueeTranslator,\n",
        "                             MyMemoryTranslator,\n",
        "                             YandexTranslator,\n",
        "                             PapagoTranslator,\n",
        "                             DeepL,\n",
        "                             QCRI,\n",
        "                             single_detection,\n",
        "                             batch_detection)\n",
        "detectlanguage.configuration.api_key = \"7e2a33b9ece836bec4d352be16ad4412\""
      ],
      "execution_count": null,
      "outputs": []
    },
    {
      "cell_type": "code",
      "metadata": {
        "id": "m529vH615wTK"
      },
      "source": [
        "train = pd.read_csv(\"/content/drive/MyDrive/nlp/data/train.csv\")\n",
        "test = pd.read_csv(\"/content/drive/MyDrive/nlp/data/test.csv\")\n",
        "print(\"Reading input data is done\")\n",
        "df_train=train.copy()"
      ],
      "execution_count": null,
      "outputs": []
    },
    {
      "cell_type": "code",
      "metadata": {
        "id": "FpfyuG21IsM9"
      },
      "source": [
        "#Instantiating Augumentaion Function\n",
        "aug = naw.ContextualWordEmbsAug(model_path='bert-base-multilingual-uncased', aug_p=0.1)\n",
        "print(\"Apply Augumentation Function\")"
      ],
      "execution_count": null,
      "outputs": []
    },
    {
      "cell_type": "code",
      "metadata": {
        "id": "xdJtrhZ4Ic10"
      },
      "source": [
        "#Apply Augumentation Function\n",
        "df_train['aug_premise']= df_train['premise'].apply(lambda x: aug.augment(x))\n",
        "print(\"Apply ContextualWordEmbsAug Function Done\")"
      ],
      "execution_count": null,
      "outputs": []
    },
    {
      "cell_type": "code",
      "metadata": {
        "id": "JPN53CwHhAnA"
      },
      "source": [
        "len(df_train)"
      ],
      "execution_count": null,
      "outputs": []
    },
    {
      "cell_type": "code",
      "metadata": {
        "id": "sPsVcsGro9jO"
      },
      "source": [
        "len(df_train[df_train['aug_premise'].str.contains(\"UNK\")])"
      ],
      "execution_count": null,
      "outputs": []
    },
    {
      "cell_type": "code",
      "metadata": {
        "id": "y99yn-5Ai1fd"
      },
      "source": [
        "df_train.drop(df_train.loc[df_train['aug_premise'].str.contains(\"UNK\")].index, inplace=True)"
      ],
      "execution_count": null,
      "outputs": []
    },
    {
      "cell_type": "code",
      "metadata": {
        "id": "o5A8f8-coB6h"
      },
      "source": [
        "len(df_train)"
      ],
      "execution_count": null,
      "outputs": []
    },
    {
      "cell_type": "code",
      "metadata": {
        "id": "NsvhQwn_shU0"
      },
      "source": [
        "df_train.to_csv(\"/content/drive/MyDrive/nlp/data/contextaug_train.csv\")"
      ],
      "execution_count": null,
      "outputs": []
    },
    {
      "cell_type": "code",
      "metadata": {
        "id": "mK8Mg8O6smMc"
      },
      "source": [
        "df_train=pd.read_csv(\"/content/drive/MyDrive/nlp/data/contextaug_train.csv\")"
      ],
      "execution_count": null,
      "outputs": []
    },
    {
      "cell_type": "code",
      "metadata": {
        "id": "xDLLZ7Xnstpr"
      },
      "source": [
        "len(df_train)"
      ],
      "execution_count": null,
      "outputs": []
    },
    {
      "cell_type": "code",
      "metadata": {
        "id": "X0kbF_fTswrt"
      },
      "source": [
        "df_train.head(5)"
      ],
      "execution_count": null,
      "outputs": []
    },
    {
      "cell_type": "code",
      "metadata": {
        "id": "3vIzOI7lNrpd"
      },
      "source": [
        "def translate(sequence1, sequence2):\n",
        "  langlist = ['en', 'fr', 'th', 'tr', 'ur', 'ru', 'bg', 'de', 'ar', 'zh', 'hi','sw', 'vi', 'es', 'el']\n",
        "  langdict =  {'aa':'Afar','ab':'Abkhazian','af':'Afrikaans','ak':'Akan','am':'Amharic','ar':'Arabic','as':'Assamese',\n",
        "         'ay':'Aymara','az':'Azerbaijani','ba':'Bashkir','be':'Belarusian','bg':'Bulgarian','bh':'Bihari',\n",
        "         'bi':'Bislama','bn':'Bengali','bo':'Tibetan','br':'Breton','bs':'Bosnian','bug':'Buginese','ca':'Catalan',\n",
        "         'ceb':'Cebuano','chr':'Cherokee','co':'Corsican','crs':'Seselwa','cs':'Czech','cy':'Welsh','da':'Danish',\n",
        "         'de':'German','dv':'Dhivehi','dz':'Dzongkha','egy':'Egyptian','el':'Greek','en':'English','eo':'Esperanto',\n",
        "         'es':'Spanish','et':'Estonian','eu':'Basque','fa':'Persian','fi':'Finnish','fj':'Fijian','fo':'Faroese',\n",
        "         'fr':'French','fy':'Frisian','ga':'Irish','gd':'ScotsGaelic','gl':'Galician','gn':'Guarani','got':'Gothic',\n",
        "         'gu':'Gujarati','gv':'Manx','ha':'Hausa','haw':'Hawaiian','hi':'Hindi','hmn':'Hmong','hr':'Croatian',\n",
        "         'ht':'HaitianCreole','hu':'Hungarian','hy':'Armenian','ia':'Interlingua','id':'Indonesian','ie':'Interlingue',\n",
        "         'ig':'Igbo','ik':'Inupiak','is':'Icelandic','it':'Italian','iu':'Inuktitut','iw':'Hebrew', 'ja':'Japanese',\n",
        "         'jw':'Javanese','ka':'Georgian','kha':'Khasi','kk':'Kazakh','kl':'Greenlandic','km':'Khmer','kn':'Kannada',\n",
        "         'ko':'Korean','ks':'Kashmiri','ku':'Kurdish','ky':'Kyrgyz','la':'Latin','lb':'Luxembourgish','lg':'Ganda',\n",
        "         'lif':'Limbu','ln':'Lingala','lo':'Laothian','lt':'Lithuanian','lv':'Latvian','mfe':'MauritianCreole',\n",
        "         'mg':'Malagasy','mi':'Maori','mk':'Macedonian','ml':'Malayalam','mn':'Mongolian','mr':'Marathi','ms':'Malay',\n",
        "         'mt':'Maltese','my':'Burmese','na':'Nauru','ne':'Nepali','nl':'Dutch','no':'Norwegian','nr':'Ndebele',\n",
        "         'nso':'Pedi','ny':'Nyanja','oc':'Occitan','om':'Oromo','or':'Oriya','pa':'Punjabi','pl':'Polish',\n",
        "         'ps':'Pashto','pt':'Portuguese','qu':'Quechua','rm':'RhaetoRomance','rn':'Rundi','ro':'Romanian',\n",
        "         'ru':'Russian','rw':'Kinyarwanda','sa':'Sanskrit','sco':'Scots','sd':'Sindhi','sg':'Sango','si':'Sinhalese',\n",
        "         'sk':'Slovak','sl':'Slovenian','sm':'Samoan','sn':'Shona','so':'Somali','sq':'Albanian','sr':'Serbian',\n",
        "         'ss':'Siswant','st':'Sesotho','su':'Sundanese','sv':'Swedish','sw':'Swahili','syr':'Syriac','ta':'Tamil',\n",
        "         'te':'Telugu','tg':'Tajik','th':'Thai','ti':'Tigrinya','tk':'Turkmen','tl':'Tagalog','tlh':'Klingon',\n",
        "         'tn':'Tswana','to':'Tonga','tr':'Turkish','ts':'Tsonga','tt':'Tatar','ug':'Uighur','uk':'Ukrainian',\n",
        "         'ur':'Urdu','uz':'Uzbek','ve':'Venda','vi':'Vietnamese','vo':'Volapuk','war':'WarayPhilippines',\n",
        "         'wo':'Wolof','xh':'Xhosa','yi':'Yiddish','yo':'Yoruba','za':'Zhuang','zh':'ChineseSimplified',\n",
        "         'zh-Hant':'ChineseTraditional','zu':'Zulu'}\n",
        "  #store original language so we can convert back\n",
        "  org_lang =detectlanguage.simple_detect(sequence1)\n",
        "  #randomly choose language to translate sequence to\n",
        "  random_lang = np.random.choice([lang for lang in langlist if lang is not org_lang])\n",
        "  if org_lang in langlist:\n",
        "    translated1 = GoogleTranslator(source='auto', target=random_lang).translate(sequence1)\n",
        "    translated2 = GoogleTranslator(source='auto', target=random_lang).translate(sequence2)\n",
        "    output_sequence1 = translated1\n",
        "    output_sequence2 = translated2\n",
        "    langabv          = random_lang      \n",
        "    languagefull     = langdict[random_lang]\n",
        "\n",
        "    #if detected language not in our list of languages, do nothing\n",
        "  else:\n",
        "    output_sequence1 = sequence1\n",
        "    output_sequence2 = sequence2\n",
        "    langabv          = org_lang\n",
        "    languagefull     = langdict[org_lang]\n",
        "  return output_sequence1, output_sequence2,langabv, languagefull"
      ],
      "execution_count": null,
      "outputs": []
    },
    {
      "cell_type": "code",
      "metadata": {
        "id": "-cXqW63UQYtE"
      },
      "source": [
        "#applies above define function with Dask\n",
        "def translate_parallel(dataset):\n",
        "  with diagnostics.ProgressBar():\n",
        "    #pair premises and hypothesis\n",
        "    dataset[['premise', 'hypothesis', 'lang_abv', 'language']] = \\\n",
        "    dataset[['aug_premise', 'hypothesis']].apply(lambda x: pd.Series(translate(x.aug_premise, x.hypothesis)),axis=1)\n",
        "  return dataset"
      ],
      "execution_count": null,
      "outputs": []
    },
    {
      "cell_type": "code",
      "metadata": {
        "id": "kIrZn2CqakTB"
      },
      "source": [
        "translate_parallel(df_train)"
      ],
      "execution_count": null,
      "outputs": []
    },
    {
      "cell_type": "code",
      "metadata": {
        "id": "Bb1UL-neCWbI"
      },
      "source": [
        "df_train.id=df_train.id.apply(lambda x: 't'+ x)"
      ],
      "execution_count": null,
      "outputs": []
    },
    {
      "cell_type": "code",
      "metadata": {
        "id": "RTbXYOWWaf3U"
      },
      "source": [
        "landict={'aa':'Afar','ab':'Abkhazian','af':'Afrikaans','ak':'Akan','am':'Amharic','ar':'Arabic','as':'Assamese',\n",
        "         'ay':'Aymara','az':'Azerbaijani','ba':'Bashkir','be':'Belarusian','bg':'Bulgarian','bh':'Bihari',\n",
        "         'bi':'Bislama','bn':'Bengali','bo':'Tibetan','br':'Breton','bs':'Bosnian','bug':'Buginese','ca':'Catalan',\n",
        "         'ceb':'Cebuano','chr':'Cherokee','co':'Corsican','crs':'Seselwa','cs':'Czech','cy':'Welsh','da':'Danish',\n",
        "         'de':'German','dv':'Dhivehi','dz':'Dzongkha','egy':'Egyptian','el':'Greek','en':'English','eo':'Esperanto',\n",
        "         'es':'Spanish','et':'Estonian','eu':'Basque','fa':'Persian','fi':'Finnish','fj':'Fijian','fo':'Faroese',\n",
        "         'fr':'French','fy':'Frisian','ga':'Irish','gd':'ScotsGaelic','gl':'Galician','gn':'Guarani','got':'Gothic',\n",
        "         'gu':'Gujarati','gv':'Manx','ha':'Hausa','haw':'Hawaiian','hi':'Hindi','hmn':'Hmong','hr':'Croatian',\n",
        "         'ht':'HaitianCreole','hu':'Hungarian','hy':'Armenian','ia':'Interlingua','id':'Indonesian','ie':'Interlingue',\n",
        "         'ig':'Igbo','ik':'Inupiak','is':'Icelandic','it':'Italian','iu':'Inuktitut','iw':'Hebrew', 'ja':'Japanese',\n",
        "         'jw':'Javanese','ka':'Georgian','kha':'Khasi','kk':'Kazakh','kl':'Greenlandic','km':'Khmer','kn':'Kannada',\n",
        "         'ko':'Korean','ks':'Kashmiri','ku':'Kurdish','ky':'Kyrgyz','la':'Latin','lb':'Luxembourgish','lg':'Ganda',\n",
        "         'lif':'Limbu','ln':'Lingala','lo':'Laothian','lt':'Lithuanian','lv':'Latvian','mfe':'MauritianCreole',\n",
        "         'mg':'Malagasy','mi':'Maori','mk':'Macedonian','ml':'Malayalam','mn':'Mongolian','mr':'Marathi','ms':'Malay',\n",
        "         'mt':'Maltese','my':'Burmese','na':'Nauru','ne':'Nepali','nl':'Dutch','no':'Norwegian','nr':'Ndebele',\n",
        "         'nso':'Pedi','ny':'Nyanja','oc':'Occitan','om':'Oromo','or':'Oriya','pa':'Punjabi','pl':'Polish',\n",
        "         'ps':'Pashto','pt':'Portuguese','qu':'Quechua','rm':'RhaetoRomance','rn':'Rundi','ro':'Romanian',\n",
        "         'ru':'Russian','rw':'Kinyarwanda','sa':'Sanskrit','sco':'Scots','sd':'Sindhi','sg':'Sango','si':'Sinhalese',\n",
        "         'sk':'Slovak','sl':'Slovenian','sm':'Samoan','sn':'Shona','so':'Somali','sq':'Albanian','sr':'Serbian',\n",
        "         'ss':'Siswant','st':'Sesotho','su':'Sundanese','sv':'Swedish','sw':'Swahili','syr':'Syriac','ta':'Tamil',\n",
        "         'te':'Telugu','tg':'Tajik','th':'Thai','ti':'Tigrinya','tk':'Turkmen','tl':'Tagalog','tlh':'Klingon',\n",
        "         'tn':'Tswana','to':'Tonga','tr':'Turkish','ts':'Tsonga','tt':'Tatar','ug':'Uighur','uk':'Ukrainian',\n",
        "         'ur':'Urdu','uz':'Uzbek','ve':'Venda','vi':'Vietnamese','vo':'Volapuk','war':'WarayPhilippines',\n",
        "         'wo':'Wolof','xh':'Xhosa','yi':'Yiddish','yo':'Yoruba','za':'Zhuang','zh':'ChineseSimplified',\n",
        "         'zh-Hant':'ChineseTraditional','zu':'Zulu'}"
      ],
      "execution_count": null,
      "outputs": []
    },
    {
      "cell_type": "code",
      "metadata": {
        "id": "5NPNrU9Npg93"
      },
      "source": [
        "lan=['aa','ab','af','ak','am','ar','as','ay','az','ba','be','bg','bh','bi','bn','bo','br','bs','bug','ca',\n",
        "               'ceb','chr','co','crs','cs','cy','da','de','dv','dz','egy','el','en','eo','es','et','eu','fa','fi',\n",
        "               'fj','fo','fr','fy','ga','gd','gl','gn','got','gu','gv','ha','haw','hi','hmn','hr','ht','hu','hy','ia',\n",
        "               'id','ie','ig','ik','is','it','iu','iw','ja','jw','ka','kha','kk','kl','km','kn','ko','ks','ku','ky',\n",
        "               'la','lb','lg','lif','ln','lo','lt','lv','mfe','mg','mi','mk','ml','mn','mr','ms','mt','my','na','ne',\n",
        "               'nl','no','nr','nso','ny','oc','om','or','pa','pl','ps','pt','qu','rm','rn','ro','ru','rw','sa','sco',\n",
        "               'sd','sg','si','sk','sl','sm','sn','so','sq','sr','ss','st','su','sv','sw','syr','ta','te','tg','th',\n",
        "               'ti','tk','tl','tlh','tn','to','tr','ts','tt','ug','uk','ur','uz','ve','vi','vo','war','wo','xh','yi',\n",
        "               'yo','za','zh','zh-Hant','zu']"
      ],
      "execution_count": null,
      "outputs": []
    },
    {
      "cell_type": "code",
      "metadata": {
        "id": "Sx6wfM9R0V_y"
      },
      "source": [
        "set('en':'English','fr':'French', 'th':'Thai', 'ur':'Urdu', 'ru':'Russian', 'zh':'Chinese',\n",
        "               'hi':'Hindi','sw':'Swahili', 'vi':'Vietnamese', 'es':'Spanish', 'el':'Greek', "
      ],
      "execution_count": null,
      "outputs": []
    },
    {
      "cell_type": "code",
      "metadata": {
        "id": "adKmHDjtaqRx"
      },
      "source": [
        "df_train.to_csv(\"/content/drive/MyDrive/nlp/data/aug_train.csv\")"
      ],
      "execution_count": null,
      "outputs": []
    }
  ]
}