{
  "nbformat": 4,
  "nbformat_minor": 0,
  "metadata": {
    "colab": {
      "name": "train_test_split_aug.ipynb",
      "private_outputs": true,
      "provenance": [],
      "authorship_tag": "ABX9TyNKeecYyynHu5ZgErKufQlC",
      "include_colab_link": true
    },
    "kernelspec": {
      "name": "python3",
      "display_name": "Python 3"
    },
    "language_info": {
      "name": "python"
    }
  },
  "cells": [
    {
      "cell_type": "markdown",
      "metadata": {
        "id": "view-in-github",
        "colab_type": "text"
      },
      "source": [
        "<a href=\"https://colab.research.google.com/github/Vurimindi2021/Capstone3/blob/main/src/translated/train_test_split_aug.ipynb\" target=\"_parent\"><img src=\"https://colab.research.google.com/assets/colab-badge.svg\" alt=\"Open In Colab\"/></a>"
      ]
    },
    {
      "cell_type": "code",
      "metadata": {
        "id": "B36HDTGICG-w"
      },
      "source": [
        "from google.colab import drive\n",
        "drive.flush_and_unmount()\n",
        "drive.mount('/content/drive', force_remount=True)"
      ],
      "execution_count": null,
      "outputs": []
    },
    {
      "cell_type": "code",
      "metadata": {
        "id": "kl-cfVe8CJ4P"
      },
      "source": [
        "from sklearn.model_selection import train_test_split\n",
        "import numpy as np\n",
        "import pandas as pd"
      ],
      "execution_count": null,
      "outputs": []
    },
    {
      "cell_type": "code",
      "metadata": {
        "id": "WUzS_j8tCQsm"
      },
      "source": [
        "eng_trans_train= pd.read_csv(\"/content/drive/MyDrive/nlp/data/translated/english_transled_train.csv\")"
      ],
      "execution_count": null,
      "outputs": []
    },
    {
      "cell_type": "code",
      "metadata": {
        "id": "uScvIYMwEDmf"
      },
      "source": [
        "eng_trans_train[\"language_label\"] = eng_trans_train.lang_abv.astype(str) + \"_\" + eng_trans_train.label.astype(str)"
      ],
      "execution_count": null,
      "outputs": []
    },
    {
      "cell_type": "code",
      "metadata": {
        "id": "8sqN5eooKKRd"
      },
      "source": [
        "eng_trans_train.drop(12132, axis=0, inplace=True)"
      ],
      "execution_count": null,
      "outputs": []
    },
    {
      "cell_type": "code",
      "metadata": {
        "id": "XGr5fOfyCnnM"
      },
      "source": [
        "train, test = train_test_split(eng_trans_train, test_size=0.20, random_state=42,stratify=eng_trans_train.language_label)"
      ],
      "execution_count": null,
      "outputs": []
    },
    {
      "cell_type": "code",
      "metadata": {
        "id": "0D9thLZRMFCA"
      },
      "source": [
        "train.to_csv(\"/content/drive/MyDrive/nlp/data/translated/eng_trans_train.csv\", index=False)"
      ],
      "execution_count": null,
      "outputs": []
    },
    {
      "cell_type": "code",
      "metadata": {
        "id": "jgF-hLa4MURP"
      },
      "source": [
        "test.to_csv(\"/content/drive/MyDrive/nlp/data/translated/eng_trans_test.csv\", index=False)"
      ],
      "execution_count": null,
      "outputs": []
    }
  ]
}