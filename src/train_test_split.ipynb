{
  "nbformat": 4,
  "nbformat_minor": 0,
  "metadata": {
    "colab": {
      "name": "train_test_split.ipynb",
      "private_outputs": true,
      "provenance": [],
      "authorship_tag": "ABX9TyPS9VADW3wORZbqN9J9bQQU",
      "include_colab_link": true
    },
    "kernelspec": {
      "name": "python3",
      "display_name": "Python 3"
    },
    "language_info": {
      "name": "python"
    }
  },
  "cells": [
    {
      "cell_type": "markdown",
      "metadata": {
        "id": "view-in-github",
        "colab_type": "text"
      },
      "source": [
        "<a href=\"https://colab.research.google.com/github/Vurimindi2021/Capstone3/blob/main/src/train_test_split.ipynb\" target=\"_parent\"><img src=\"https://colab.research.google.com/assets/colab-badge.svg\" alt=\"Open In Colab\"/></a>"
      ]
    },
    {
      "cell_type": "code",
      "metadata": {
        "id": "B36HDTGICG-w"
      },
      "source": [
        "from google.colab import drive\n",
        "drive.flush_and_unmount()\n",
        "drive.mount('/content/drive', force_remount=True)"
      ],
      "execution_count": null,
      "outputs": []
    },
    {
      "cell_type": "code",
      "metadata": {
        "id": "kl-cfVe8CJ4P"
      },
      "source": [
        "from sklearn.model_selection import train_test_split\n",
        "import numpy as np\n",
        "import pandas as pd"
      ],
      "execution_count": null,
      "outputs": []
    },
    {
      "cell_type": "code",
      "metadata": {
        "id": "WUzS_j8tCQsm"
      },
      "source": [
        "train= pd.read_csv(\"/content/drive/MyDrive/nlp/data/train.csv\")"
      ],
      "execution_count": null,
      "outputs": []
    },
    {
      "cell_type": "code",
      "metadata": {
        "id": "uScvIYMwEDmf"
      },
      "source": [
        "train[\"language_label\"] = train.lang_abv.astype(str) + \"_\" + train.label.astype(str)"
      ],
      "execution_count": null,
      "outputs": []
    },
    {
      "cell_type": "code",
      "metadata": {
        "id": "XGr5fOfyCnnM"
      },
      "source": [
        "train_hold, test_hold = train_test_split(train, test_size=0.20, random_state=42,stratify=train.language_label)"
      ],
      "execution_count": null,
      "outputs": []
    },
    {
      "cell_type": "code",
      "metadata": {
        "id": "0D9thLZRMFCA"
      },
      "source": [
        "train_hold.to_csv(\"/content/drive/MyDrive/nlp/data/train_hold.csv\", index=False)"
      ],
      "execution_count": null,
      "outputs": []
    },
    {
      "cell_type": "code",
      "metadata": {
        "id": "jgF-hLa4MURP"
      },
      "source": [
        "test_hold.to_csv(\"/content/drive/MyDrive/nlp/data/test_hold.csv\", index=False)"
      ],
      "execution_count": null,
      "outputs": []
    }
  ]
}